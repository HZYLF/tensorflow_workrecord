{
 "cells": [
  {
   "cell_type": "markdown",
   "metadata": {},
   "source": [
    "# 关于校验Tensorflow中GPU的使用情况"
   ]
  },
  {
   "cell_type": "markdown",
   "metadata": {},
   "source": [
    ">基本指令查看\n",
    "- 查看显存使用情况：watch -n 1 nvidia-smi\n",
    "- 查看tensorflow中的可识别设备情况：  \n",
    "打开python窗口，输入：\n",
    "```python\n",
    "from tensorflow.python.client import device_lib\n",
    "device_lib.list_local_devices()\n",
    "```\n",
    "返回了\n",
    "```shell\n",
    "[name: \"/device:CPU:0\"\n",
    "device_type: \"CPU\"\n",
    "memory_limit: 268435456\n",
    "locality {\n",
    "}\n",
    "incarnation: 10091552854752830998\n",
    ", name: \"/device:XLA_CPU:0\"\n",
    "device_type: \"XLA_CPU\"\n",
    "memory_limit: 17179869184\n",
    "locality {\n",
    "}\n",
    "incarnation: 16478447750412646183\n",
    "physical_device_desc: \"device: XLA_CPU device\"\n",
    "]\n",
    "```\n",
    "即有两个设备：CPU和XLA_CPU\n",
    "- 查看jupyter日志：tail -F /data/logs/jupyter.log"
   ]
  },
  {
   "cell_type": "markdown",
   "metadata": {},
   "source": [
    "Question：没有GPU设备？"
   ]
  },
  {
   "cell_type": "markdown",
   "metadata": {},
   "source": [
    "# 编写测试程序"
   ]
  },
  {
   "cell_type": "markdown",
   "metadata": {},
   "source": [
    "编写下面的测试程序，并监听日志："
   ]
  },
  {
   "cell_type": "code",
   "execution_count": 1,
   "metadata": {
    "ExecuteTime": {
     "end_time": "2018-12-07T12:50:58.686480Z",
     "start_time": "2018-12-07T12:50:54.387891Z"
    }
   },
   "outputs": [
    {
     "name": "stderr",
     "output_type": "stream",
     "text": [
      "/data/anaconda2/lib/python2.7/site-packages/h5py/__init__.py:36: FutureWarning: Conversion of the second argument of issubdtype from `float` to `np.floating` is deprecated. In future, it will be treated as `np.float64 == np.dtype(float).type`.\n",
      "  from ._conv import register_converters as _register_converters\n"
     ]
    },
    {
     "name": "stdout",
     "output_type": "stream",
     "text": [
      "---cpu---:\n",
      "[[22. 28.]\n",
      " [49. 64.]]\n"
     ]
    }
   ],
   "source": [
    "import tensorflow as tf\n",
    "with tf.device('/cpu:0'):\n",
    "    a = tf.constant([1.0, 2.0, 3.0, 4.0, 5.0, 6.0], shape=[2, 3], name='a')\n",
    "    b = tf.constant([1.0, 2.0, 3.0, 4.0, 5.0, 6.0], shape=[3, 2], name='b')\n",
    "    c = tf.matmul(a, b)\n",
    "    sess = tf.Session(config=tf.ConfigProto(allow_soft_placement=True,log_device_placement=True))\n",
    "    tf.global_variables_initializer()\n",
    "    print '---cpu---:\\n',sess.run(c)"
   ]
  },
  {
   "cell_type": "markdown",
   "metadata": {},
   "source": [
    "返回了\n",
    "```shell\n",
    "2018-12-07 19:29:47.567669: I tensorflow/core/platform/cpu_feature_guard.cc:141] Your CPU supports instructions that this TensorFlow binary was not compiled to use: AVX2 FMA\n",
    "2018-12-07 19:29:47.570860: I tensorflow/core/common_runtime/direct_session.cc:307] Device mapping:\n",
    "/job:localhost/replica:0/task:0/device:XLA_CPU:0 -> device: XLA_CPU device\n",
    "\n",
    "2018-12-07 19:29:47.572208: I tensorflow/core/common_runtime/placer.cc:927] MatMul: (MatMul)/job:localhost/replica:0/task:0/device:CPU:0\n",
    "2018-12-07 19:29:47.572227: I tensorflow/core/common_runtime/placer.cc:927] init: (NoOp)/job:localhost/replica:0/task:0/device:CPU:0\n",
    "2018-12-07 19:29:47.572235: I tensorflow/core/common_runtime/placer.cc:927] a: (Const)/job:localhost/replica:0/task:0/device:CPU:0\n",
    "2018-12-07 19:29:47.572244: I tensorflow/core/common_runtime/placer.cc:927] b: (Const)/job:localhost/replica:0/task:0/device:CPU:0\n",
    "```"
   ]
  },
  {
   "cell_type": "code",
   "execution_count": 3,
   "metadata": {
    "ExecuteTime": {
     "end_time": "2018-12-07T12:52:27.816213Z",
     "start_time": "2018-12-07T12:52:27.799216Z"
    }
   },
   "outputs": [
    {
     "name": "stdout",
     "output_type": "stream",
     "text": [
      "---XLA_CPU---: [[22. 28.]\n",
      " [49. 64.]]\n"
     ]
    }
   ],
   "source": [
    "import tensorflow as tf\n",
    "with tf.device('/device:GPU:0'):\n",
    "    a = tf.constant([1.0, 2.0, 3.0, 4.0, 5.0, 6.0], shape=[2, 3], name='a')\n",
    "    b = tf.constant([1.0, 2.0, 3.0, 4.0, 5.0, 6.0], shape=[3, 2], name='b')\n",
    "    c = tf.matmul(a, b)\n",
    "    sess = tf.Session(config=tf.ConfigProto(allow_soft_placement=True,log_device_placement=True))\n",
    "    tf.global_variables_initializer()\n",
    "    print '---XLA_CPU---:',sess.run(c)"
   ]
  },
  {
   "cell_type": "markdown",
   "metadata": {},
   "source": [
    "返回了\n",
    "```shell\n",
    "Device mapping:\n",
    "/job:localhost/replica:0/task:0/device:XLA_CPU:0 -> device: XLA_CPU device\n",
    "MatMul: (MatMul): /job:localhost/replica:0/task:0/device:CPU:0\n",
    "init: (NoOp): /job:localhost/replica:0/task:0/device:CPU:0\n",
    "a: (Const): /job:localhost/replica:0/task:0/device:CPU:0\n",
    "b: (Const): /job:localhost/replica:0/task:0/device:CPU:0\n",
    "[I 19:30:13.292 NotebookApp] Kernel restarted: f3ad19d1-912f-4fd6-922f-d7b3f40a410d\n",
    "[I 19:30:13.701 NotebookApp] Adapting to protocol v5.1 for kernel f3ad19d1-912f-4fd6-922f-d7b3f40a410d\n",
    "[I 19:30:13.701 NotebookApp] Restoring connection for f3ad19d1-912f-4fd6-922f-d7b3f40a410d:38b4318a71134437ac088756c921ff55\n",
    "[I 19:30:13.701 NotebookApp] Replaying 3 buffered messages\n",
    "2018-12-07 19:30:16.297483: I tensorflow/core/platform/cpu_feature_guard.cc:141] Your CPU supports instructions that this TensorFlow binary was not compiled to use: AVX2 FMA\n",
    "2018-12-07 19:30:16.300893: I tensorflow/core/common_runtime/direct_session.cc:307] Device mapping:\n",
    "/job:localhost/replica:0/task:0/device:XLA_CPU:0 -> device: XLA_CPU device\n",
    "\n",
    "2018-12-07 19:30:16.302147: I tensorflow/core/common_runtime/placer.cc:927] MatMul: (MatMul)/job:localhost/replica:0/task:0/device:XLA_CPU:0\n",
    "2018-12-07 19:30:16.302164: I tensorflow/core/common_runtime/placer.cc:927] init: (NoOp)/job:localhost/replica:0/task:0/device:XLA_CPU:0\n",
    "2018-12-07 19:30:16.302171: I tensorflow/core/common_runtime/placer.cc:927] a: (Const)/job:localhost/replica:0/task:0/device:XLA_CPU:0\n",
    "2018-12-07 19:30:16.302178: I tensorflow/core/common_runtime/placer.cc:927] b: (Const)/job:localhost/replica:0/task:0/device:XLA_CPU:0\n",
    "2018-12-07 19:30:16.326939: I tensorflow/core/platform/profile_utils/cpu_utils.cc:94] CPU Frequency: 3408000000 Hz\n",
    "2018-12-07 19:30:16.327458: I tensorflow/compiler/xla/service/service.cc:149] XLA service 0x558db4b2e0b0 executing computations on platform Host. Devices:\n",
    "2018-12-07 19:30:16.327476: I tensorflow/compiler/xla/service/service.cc:157]   StreamExecutor device (0): <undefined>, <undefined>\n",
    "```"
   ]
  },
  {
   "cell_type": "markdown",
   "metadata": {},
   "source": [
    "# 怀疑是因为tensorflow版本导致，这里进行降级\n",
    "输入：\n",
    "```shell\n",
    "pip list | grep tensorflow\n",
    "```\n",
    "返回：\n",
    "```\n",
    "tensorflow                         1.12.0                   \n",
    "tensorflow-data-validation         0.9.0                    \n",
    "tensorflow-gpu                     1.12.0                   \n",
    "tensorflow-metadata                0.9.0                    \n",
    "tensorflow-serving-api             1.12.0                   \n",
    "tensorflow-transform               0.11.0 \n",
    "```\n",
    "这里进行如下操作：\n",
    "```shell\n",
    "pip install tensorflow==1.8.0\n",
    "pip install tensorflow-gpu==1.8.0\n",
    "```\n",
    "\n",
    "\n",
    ">如果出现了问题请回复原始的tf版本\n",
    "```shell\n",
    "pip install tensorflow==1.12.0\n",
    "pip install tensorflow-gpu==1.12.0\n",
    "```"
   ]
  },
  {
   "cell_type": "markdown",
   "metadata": {
    "ExecuteTime": {
     "end_time": "2018-12-07T12:53:47.386625Z",
     "start_time": "2018-12-07T12:53:47.373559Z"
    }
   },
   "source": [
    "# 实际1.8.0更能较好支持gpu，复原1.12.0"
   ]
  },
  {
   "cell_type": "markdown",
   "metadata": {
    "ExecuteTime": {
     "end_time": "2018-12-07T12:53:47.386625Z",
     "start_time": "2018-12-07T12:53:47.373559Z"
    }
   },
   "source": [
    "然后莫名其妙的，好了"
   ]
  },
  {
   "cell_type": "code",
   "execution_count": 4,
   "metadata": {
    "ExecuteTime": {
     "end_time": "2018-12-07T12:53:47.386625Z",
     "start_time": "2018-12-07T12:53:47.373559Z"
    }
   },
   "outputs": [
    {
     "data": {
      "text/plain": [
       "[name: \"/device:CPU:0\"\n",
       " device_type: \"CPU\"\n",
       " memory_limit: 268435456\n",
       " locality {\n",
       " }\n",
       " incarnation: 13795605669416223653, name: \"/device:XLA_GPU:0\"\n",
       " device_type: \"XLA_GPU\"\n",
       " memory_limit: 17179869184\n",
       " locality {\n",
       " }\n",
       " incarnation: 10736823567353150985\n",
       " physical_device_desc: \"device: XLA_GPU device\", name: \"/device:XLA_CPU:0\"\n",
       " device_type: \"XLA_CPU\"\n",
       " memory_limit: 17179869184\n",
       " locality {\n",
       " }\n",
       " incarnation: 11584388614102884367\n",
       " physical_device_desc: \"device: XLA_CPU device\", name: \"/device:GPU:0\"\n",
       " device_type: \"GPU\"\n",
       " memory_limit: 7895151412\n",
       " locality {\n",
       "   bus_id: 1\n",
       "   links {\n",
       "   }\n",
       " }\n",
       " incarnation: 2302359680209861215\n",
       " physical_device_desc: \"device: 0, name: GeForce GTX 1080, pci bus id: 0000:01:00.0, compute capability: 6.1\"]"
      ]
     },
     "execution_count": 4,
     "metadata": {},
     "output_type": "execute_result"
    }
   ],
   "source": [
    "from tensorflow.python.client import device_lib\n",
    "device_lib.list_local_devices()"
   ]
  }
 ],
 "metadata": {
  "kernelspec": {
   "display_name": "Python 2",
   "language": "python",
   "name": "python2"
  },
  "language_info": {
   "codemirror_mode": {
    "name": "ipython",
    "version": 2
   },
   "file_extension": ".py",
   "mimetype": "text/x-python",
   "name": "python",
   "nbconvert_exporter": "python",
   "pygments_lexer": "ipython2",
   "version": "2.7.14"
  },
  "toc": {
   "base_numbering": 1,
   "nav_menu": {},
   "number_sections": true,
   "sideBar": true,
   "skip_h1_title": false,
   "title_cell": "Table of Contents",
   "title_sidebar": "Contents",
   "toc_cell": false,
   "toc_position": {},
   "toc_section_display": true,
   "toc_window_display": false
  },
  "varInspector": {
   "cols": {
    "lenName": 16,
    "lenType": 16,
    "lenVar": 40
   },
   "kernels_config": {
    "python": {
     "delete_cmd_postfix": "",
     "delete_cmd_prefix": "del ",
     "library": "var_list.py",
     "varRefreshCmd": "print(var_dic_list())"
    },
    "r": {
     "delete_cmd_postfix": ") ",
     "delete_cmd_prefix": "rm(",
     "library": "var_list.r",
     "varRefreshCmd": "cat(var_dic_list()) "
    }
   },
   "types_to_exclude": [
    "module",
    "function",
    "builtin_function_or_method",
    "instance",
    "_Feature"
   ],
   "window_display": false
  }
 },
 "nbformat": 4,
 "nbformat_minor": 2
}
